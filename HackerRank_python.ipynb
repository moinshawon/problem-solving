{
 "cells": [
  {
   "cell_type": "markdown",
   "metadata": {},
   "source": [
    "# itertools.product()\n",
    "\n",
    "This tool computes the cartesian product of input iterables.\n",
    "It is equivalent to nested for-loops.\n",
    "For example, product(A, B) returns the same as ((x,y) for x in A for y in B).\n",
    "\n",
    "A = [1, 2]\n",
    "B = [3, 4]\n",
    "\n",
    "AxB = [(1, 3), (1, 4), (2, 3), (2, 4)]\n",
    "\n",
    "## Sample Input\n",
    " 1 2 \\\n",
    " 3 4\n",
    "\n",
    "## Sample Output\n",
    "(1, 3) (1, 4) (2, 3) (2, 4)"
   ]
  },
  {
   "cell_type": "code",
   "execution_count": 3,
   "metadata": {},
   "outputs": [
    {
     "name": "stdout",
     "output_type": "stream",
     "text": [
      "(45, 532) (45, 3) (2, 532) (2, 3) "
     ]
    }
   ],
   "source": [
    "from itertools import product\n",
    "\n",
    "a = input().split()\n",
    "a = list(map(int, a))\n",
    "\n",
    "b = input().split()\n",
    "b = list(map(int, b))\n",
    "\n",
    "for i in product(a, b):\n",
    "    print (i, end=' ')\n"
   ]
  },
  {
   "cell_type": "markdown",
   "metadata": {},
   "source": [
    "# Find the Runner-Up Score!\n",
    "\n",
    "Given the participants' score sheet for your University Sports Day, you are required to find the runner-up score. You are given  scores. Store them in a list and find the score of the runner-up.\n",
    "\n",
    "## Sample Input \n",
    "\n",
    "5 \\\n",
    "2 3 6 6 5\n",
    "\n",
    "## Sample Output \n",
    "5"
   ]
  },
  {
   "cell_type": "code",
   "execution_count": 5,
   "metadata": {},
   "outputs": [
    {
     "name": "stdout",
     "output_type": "stream",
     "text": [
      "53\n"
     ]
    }
   ],
   "source": [
    "if __name__ == '__main__':\n",
    "    n = int(input())\n",
    "    arr = map(int, input().split())\n",
    "    s = set(arr)\n",
    "    l = list(s)\n",
    "    \n",
    "    print(sorted(l)[-2])"
   ]
  },
  {
   "cell_type": "markdown",
   "metadata": {},
   "source": [
    "# List Comprehensions\n",
    "\n",
    "Let's learn about list comprehensions! You are given three integers  and  representing the dimensions of a cuboid along with an integer . Print a list of all possible coordinates given by  on a 3D grid where the sum of  is not equal to . Here, . Please use list comprehensions rather than multiple loops, as a learning exercise.\n",
    "\n",
    "## Sample Input 0\n",
    "\n",
    "1\n",
    "1\n",
    "1\n",
    "2\n",
    "\n",
    "## Sample Output 0\n",
    "[[0, 0, 0], [0, 0, 1], [0, 1, 0], [1, 0, 0], [1, 1, 1]]\n",
    "\n",
    "## Sample Input 1\n",
    "2\n",
    "2\n",
    "2\n",
    "2\n",
    "\n",
    "## Sample Output 1\n",
    "[[0, 0, 0], [0, 0, 1], [0, 1, 0], [0, 1, 2], [0, 2, 1], [0, 2, 2], [1, 0, 0], [1, 0, 2], [1, 1, 1], [1, 1, 2], [1, 2, 0], [1, 2, 1], [1, 2, 2], [2, 0, 1], [2, 0, 2], [2, 1, 0], [2, 1, 1], [2, 1, 2], [2, 2, 0], [2, 2, 1], [2, 2, 2]]"
   ]
  },
  {
   "cell_type": "code",
   "execution_count": 6,
   "metadata": {},
   "outputs": [
    {
     "name": "stdout",
     "output_type": "stream",
     "text": [
      "[[0, 0, 0], [0, 0, 1], [0, 1, 0], [0, 2, 1], [1, 0, 0], [1, 1, 1], [1, 2, 0], [1, 2, 1]]\n"
     ]
    }
   ],
   "source": [
    "# if __name__ == '__main__':\n",
    "#     li = []\n",
    "    \n",
    "#     x = int(input())\n",
    "#     y = int(input())\n",
    "#     z = int(input())\n",
    "#     n = int(input())\n",
    "    \n",
    "#     for i in range(x+1):\n",
    "#         for j in range(y+1):\n",
    "#             for k in range(z+1):\n",
    "#                 if i + j + k != n:\n",
    "#                     li += [[i, j, k]]\n",
    "    \n",
    "#     print(li)\n",
    "\n",
    "if __name__ == '__main__':\n",
    "    x = int(input())\n",
    "    y = int(input())\n",
    "    z = int(input())\n",
    "    n = int(input())\n",
    "    \n",
    "    output = [[i, j, k] for i in range(x + 1) for j in range(y + 1) for k in range(z + 1) if i + j + k != n]\n",
    "    \n",
    "    print(output)"
   ]
  },
  {
   "cell_type": "markdown",
   "metadata": {},
   "source": [
    "# Print Function\n",
    "\n",
    "The included code stub will read an integer, , from STDIN. Without using any string methods, try to print the following:\n",
    "Note that \"\" represents the consecutive values in between.\n",
    "\n",
    "## Sample Input 0\n",
    "3\n",
    "\n",
    "## Sample Output 0\n",
    "\n",
    "123"
   ]
  },
  {
   "cell_type": "code",
   "execution_count": 8,
   "metadata": {},
   "outputs": [
    {
     "name": "stdout",
     "output_type": "stream",
     "text": [
      "123456789"
     ]
    }
   ],
   "source": [
    "if __name__ == '__main__':\n",
    "    n = int(input())\n",
    "    \n",
    "    for i in range(1,n+1):\n",
    "        print(i, end = '')"
   ]
  },
  {
   "cell_type": "markdown",
   "metadata": {},
   "source": [
    "# Lists\n",
    "\n",
    "Consider a list (list = []). You can perform the following commands:\n",
    "\n",
    "insert i e: Insert integer  at position .\n",
    "print: Print the list.\n",
    "remove e: Delete the first occurrence of integer .\n",
    "append e: Insert integer  at the end of the list.\n",
    "sort: Sort the list.\n",
    "pop: Pop the last element from the list.\n",
    "reverse: Reverse the list.\n",
    "Initialize your list and read in the value of  followed by  lines of commands where each command will be of the  types listed above. Iterate through each command in order and perform the corresponding operation on your list.\n",
    "\n",
    "## Sample Input 0\n",
    "12 \\\n",
    "insert 0 5 \\\n",
    "insert 1 10\\\n",
    "insert 0 6\\\n",
    "print\\\n",
    "remove 6\\\n",
    "append 9\\\n",
    "append 1\\\n",
    "sort\\\n",
    "print\\\n",
    "pop\\\n",
    "reverse\\\n",
    "print\n",
    "\n",
    "## Sample Output 0\n",
    "[6, 5, 10]\n",
    "[1, 5, 9, 10]\n",
    "[9, 5, 1]"
   ]
  },
  {
   "cell_type": "code",
   "execution_count": null,
   "metadata": {},
   "outputs": [],
   "source": [
    "l = []\n",
    "if __name__ == '__main__':\n",
    "    for i in range(int(input())):\n",
    "        N = input().split()\n",
    "        \n",
    "        for i in range(1,len(N)):\n",
    "            N[i] = int(N[i])\n",
    "            \n",
    "        if N[0] == 'insert':\n",
    "            l.insert(N[1], N[2])\n",
    "            \n",
    "        elif N[0] == 'print':\n",
    "            print(l)\n",
    "            \n",
    "        elif N[0] == 'remove':\n",
    "            l.remove(N[1])\n",
    "            \n",
    "        elif N[0] == 'append':\n",
    "            l.append(N[1])\n",
    "            \n",
    "        elif N[0] == 'sort':\n",
    "            l.sort()\n",
    "            \n",
    "        elif N[0] == 'pop':\n",
    "            l.pop()\n",
    "            \n",
    "        elif N[0] == 'reverse':\n",
    "            l.reverse()"
   ]
  },
  {
   "cell_type": "markdown",
   "metadata": {},
   "source": [
    "# Python If-Else\n",
    "\n",
    "Given an integer, , perform the following conditional actions:\n",
    "\n",
    "If  is odd, print Weird\n",
    "If  is even and in the inclusive range of  to , print Not Weird\n",
    "If  is even and in the inclusive range of  to , print Weird\n",
    "If  is even and greater than , print Not Weird\n",
    "\n",
    "## Sample Input 0\n",
    "3\n",
    "\n",
    "## Sample Output 0\n",
    "Weird\n",
    "\n",
    "## Sample Input 1\n",
    "24\n",
    "\n",
    "## Sample Output 1\n",
    "Not Weird"
   ]
  },
  {
   "cell_type": "code",
   "execution_count": 9,
   "metadata": {},
   "outputs": [
    {
     "name": "stdout",
     "output_type": "stream",
     "text": [
      "Weird\n"
     ]
    }
   ],
   "source": [
    "n= int(input())\n",
    "if n%2==0:\n",
    "    if n<=5 and n>=2:\n",
    "        print(\"Not Weird\")\n",
    "    elif n<=20 and n>=6:\n",
    "        print(\"Weird\")\n",
    "    elif n>20:\n",
    "        print(\"Not Weird\")\n",
    "else:\n",
    "    print(\"Weird\")"
   ]
  },
  {
   "cell_type": "markdown",
   "metadata": {},
   "source": [
    "# Loops\n",
    "The provided code stub reads and integer, , from STDIN. For all non-negative integers , print .\n",
    "\n",
    "Example\n",
    "\n",
    "The list of non-negative integers that are less than n=3 is [0, 1, 2]. Print the square of each number on a separate line.\n",
    "0\\\n",
    "1\\\n",
    "4\n",
    "\n",
    "## Sample Input 0\n",
    "5\n",
    "\n",
    "## Sample Output 0\n",
    "0\\\n",
    "1\\\n",
    "4\\\n",
    "9\\\n",
    "16"
   ]
  },
  {
   "cell_type": "code",
   "execution_count": 136,
   "metadata": {},
   "outputs": [
    {
     "name": "stdout",
     "output_type": "stream",
     "text": [
      "0\n",
      "1\n",
      "4\n",
      "9\n",
      "16\n",
      "25\n",
      "36\n"
     ]
    }
   ],
   "source": [
    "\n",
    "if __name__ == '__main__':\n",
    "    n = int(input())\n",
    "\n",
    "i=0;\n",
    "if(n<=20):\n",
    "    while(i<n):\n",
    "        r=i*i\n",
    "        i=i+1\n",
    "        print(r)\n",
    "\n",
    "# n= int (input())\n",
    "# for i in range (n):\n",
    "#     x=i**2\n",
    "#     print(x)\n"
   ]
  },
  {
   "cell_type": "markdown",
   "metadata": {},
   "source": [
    "# Write a function\n",
    "Given a year, determine whether it is a leap year. If it is a leap year, return the Boolean True, otherwise return False. Note that the code stub provided reads from STDIN and passes arguments to the is_leap function. It is only necessary to complete the is_leap function.\n",
    "\n",
    "## Sample Input 0\n",
    "1990\n",
    "\n",
    "## Sample Output 0\n",
    "False"
   ]
  },
  {
   "cell_type": "code",
   "execution_count": 15,
   "metadata": {},
   "outputs": [
    {
     "name": "stdout",
     "output_type": "stream",
     "text": [
      "True\n"
     ]
    }
   ],
   "source": [
    "def is_leap(year):\n",
    "    leap = False\n",
    "    \n",
    "    # Write your logic here\n",
    "    if year%4==0 and year%100!=0:\n",
    "        leap= True\n",
    "    elif year%400==0:\n",
    "        leap= True\n",
    "    else:  \n",
    "        leap = False\n",
    "    \n",
    "    return leap\n",
    "\n",
    "if __name__ == '__main__':\n",
    "    print(is_leap(int (input  (\"give a year\") ) ))"
   ]
  },
  {
   "cell_type": "markdown",
   "metadata": {},
   "source": [
    "# ginortS\n",
    "\n",
    "Your task is to sort the string  in the following manner:\n",
    "All sorted lowercase letters are ahead of uppercase letters.\n",
    "All sorted uppercase letters are ahead of digits.\n",
    "All sorted odd digits are ahead of sorted even digits.\n",
    "\n",
    "## Sample Input\n",
    "Sorting1234\n",
    "\n",
    "## Sample Output\n",
    "ginortS1324"
   ]
  },
  {
   "cell_type": "code",
   "execution_count": 137,
   "metadata": {},
   "outputs": [
    {
     "name": "stdout",
     "output_type": "stream",
     "text": [
      "abjuHS98\n"
     ]
    }
   ],
   "source": [
    "a= str (input())\n",
    "cap=[]\n",
    "sm=[]\n",
    "i=[]\n",
    "o=[]\n",
    "e=[]\n",
    "for ch in a:\n",
    "    if ord(ch)<65:\n",
    "        i.append(ch)\n",
    "    elif ord(ch)<91 and ord(ch)>64:\n",
    "        cap.append(ch)\n",
    "    elif ord(ch)>96 and ord(ch)<123:\n",
    "        sm.append(ch)\n",
    "i.sort()\n",
    "cap.sort()\n",
    "sm.sort()\n",
    "for a in i:\n",
    "    if int(a)%2==0:\n",
    "        e.append(a)\n",
    "    else:\n",
    "        o.append(a)\n",
    "e.sort()\n",
    "o.sort()\n",
    "finallist=sm+cap+o+e\n",
    "print(''.join (finallist))\n"
   ]
  },
  {
   "cell_type": "markdown",
   "metadata": {},
   "source": [
    "# Time Delta\n",
    "\n",
    "When users post an update on social media,such as a URL, image, status update etc., other users in their network are able to view this new post on their news feed. Users can also see exactly when the post was published, i.e, how many hours, minutes or seconds ago.\n",
    "\n",
    "Since sometimes posts are published and viewed in different time zones, this can be confusing. You are given two timestamps of one such post that a user can see on his newsfeed in the following format:\n",
    "\n",
    "Day dd Mon yyyy hh:mm:ss +xxxx\n",
    "\n",
    "Here +xxxx represents the time zone. Your task is to print the absolute difference (in seconds) between them.\n",
    "\n",
    "## Sample Input 0\n",
    "\n",
    "2\n",
    "Sun 10 May 2015 13:54:36 -0700\\\n",
    "Sun 10 May 2015 13:54:36 -0000\\\n",
    "Sat 02 May 2015 19:54:36 +0530\\\n",
    "Fri 01 May 2015 13:54:36 -0000\n",
    "\n",
    "## Sample Output 0\n",
    "25200\\\n",
    "88200"
   ]
  },
  {
   "cell_type": "code",
   "execution_count": null,
   "metadata": {},
   "outputs": [],
   "source": [
    "import datetime\n",
    "\n",
    "# 1. Complete the time_delta function below.\n",
    "def time_delta(t1, t2):\n",
    "    a=datetime.datetime.strptime(t1, '%a %d %b %Y %H:%M:%S %z')\n",
    "    b=datetime.datetime.strptime(t2, '%a %d %b %Y %H:%M:%S %z')\n",
    "    r=abs(a-b).total_seconds()\n",
    "    return int(r)\n",
    "\n",
    "\n",
    "def main():\n",
    "    t = int(input())\n",
    "\n",
    "    for t_itr in range(t):\n",
    "        t1 = input()\n",
    "\n",
    "        t2 = input()\n",
    "\n",
    "        delta = time_delta(t1, t2)\n",
    "\n",
    "        print(delta)\n",
    "        #print(delta + '\\n')\n",
    "\n",
    "main()"
   ]
  },
  {
   "cell_type": "markdown",
   "metadata": {},
   "source": [
    "# Triangle Quest 2\n",
    "\n",
    "## Sample Input\n",
    "5\n",
    "\n",
    "## Sample Output\n",
    "\n",
    "1\\\n",
    "121\\\n",
    "12321\\\n",
    "1234321\\\n",
    "123454321"
   ]
  },
  {
   "cell_type": "code",
   "execution_count": 5,
   "metadata": {},
   "outputs": [
    {
     "name": "stdout",
     "output_type": "stream",
     "text": [
      "1\n",
      "121\n",
      "12321\n",
      "1234321\n",
      "123454321\n"
     ]
    }
   ],
   "source": [
    "for _ in range(int(input())): k =[1,121,12321,1234321,123454321,12345654321,1234567654321,123456787654321,12345678987654321]; print (k[_])\n"
   ]
  },
  {
   "cell_type": "markdown",
   "metadata": {},
   "source": [
    "# Company Logo\n",
    "\n",
    "## Sample Input 0\n",
    "\n",
    "aabbbccde\n",
    "## Sample Output 0\n",
    "\n",
    "b 3\n",
    "a 2\n",
    "c 2\n",
    "## Explanation 0\n",
    "\n",
    "\n",
    "Here, b occurs 3 times. It is printed first. Both a and c occur 2 times. So, a is printed in the second line and c in the third line because a comes before c in the alphabet.\n",
    "\n",
    "Note: The string S has at least 3 distinct characters."
   ]
  },
  {
   "cell_type": "code",
   "execution_count": null,
   "metadata": {},
   "outputs": [],
   "source": [
    "#!/bin/python3\n",
    "\n",
    "import math\n",
    "import os\n",
    "import random\n",
    "import re\n",
    "import sys\n",
    "\n",
    "if __name__ == '__main__':\n",
    "    s = input()\n",
    "    ans =[]\n",
    "        \n",
    "    for i in set(s):\n",
    "        ans.append((i, s.count(i)))\n",
    "    \n",
    "    list.sort(ans, key=lambda x:(x[1],-ord(x[0])), reverse=True)\n",
    "        \n",
    "    for x in range(3):\n",
    "        print(ans[x][0], ans[x][1])\n"
   ]
  },
  {
   "cell_type": "markdown",
   "metadata": {},
   "source": [
    "You are given a 2-D matrix. Find the row-wise maximum sum, which is let's say, rowMax. And then, find the column-wise maximum sum, which is let's say, colSum. Now, print the maximum between rowMax and colMax. Note that, the task should be performed in a single nested loop."
   ]
  },
  {
   "cell_type": "code",
   "execution_count": 1,
   "metadata": {},
   "outputs": [
    {
     "name": "stdout",
     "output_type": "stream",
     "text": [
      "33\n"
     ]
    }
   ],
   "source": [
    "# Did not able to do it with one single nested loop. SAD LIFE !! :( \n",
    "\n",
    "arr = [ [1, 2, 3], \n",
    "        [4, 5, 6], \n",
    "        [7, 8, 9], \n",
    "        [10, 11, 12]]\n",
    "colNum = len(arr[0])\n",
    "rowNum = len(arr)\n",
    "bigColSum = 0\n",
    "bigRowSum = 0\n",
    "\n",
    "for i in range(colNum):\n",
    "    su = 0\n",
    "    for j in range(rowNum):\n",
    "        su += arr[j][i]\n",
    "    if su > bigColSum:\n",
    "        bigColSum = su\n",
    "\n",
    "for i in range(rowNum):\n",
    "    su = 0\n",
    "    for j in range(colNum):\n",
    "        su += arr[i][j]\n",
    "    if su > bigRowSum:\n",
    "        bigRowSum = su\n",
    "if bigColSum > bigRowSum:\n",
    "    print(bigColSum)\n",
    "else:\n",
    "    print(bigRowSum)"
   ]
  },
  {
   "cell_type": "markdown",
   "metadata": {},
   "source": [
    "Anoter approch:"
   ]
  },
  {
   "cell_type": "code",
   "execution_count": 2,
   "metadata": {},
   "outputs": [
    {
     "name": "stdout",
     "output_type": "stream",
     "text": [
      "33\n"
     ]
    }
   ],
   "source": [
    "import numpy as np\n",
    "\n",
    "a = np.array([[1, 2, 3],[4, 5, 6], [7, 8, 9], [10, 11, 12]])\n",
    "colSum = np.sum(a,axis=0)\n",
    "rowSum = np.sum(a, axis=1)\n",
    "bigColSum = colSum[0]\n",
    "bigRowSum = rowSum[0]\n",
    "for i in colSum:\n",
    "    if i > bigColSum:\n",
    "        bigColSum = i\n",
    "for i in rowSum:\n",
    "    if i > bigRowSum:\n",
    "        bigRowSum = i\n",
    "\n",
    "if bigColSum > bigRowSum:\n",
    "    print(bigColSum)\n",
    "else:\n",
    "    print(bigRowSum)"
   ]
  }
 ],
 "metadata": {
  "interpreter": {
   "hash": "b3ba2566441a7c06988d0923437866b63cedc61552a5af99d1f4fb67d367b25f"
  },
  "kernelspec": {
   "display_name": "Python 3.8.5 64-bit ('base': conda)",
   "name": "python3"
  },
  "language_info": {
   "codemirror_mode": {
    "name": "ipython",
    "version": 3
   },
   "file_extension": ".py",
   "mimetype": "text/x-python",
   "name": "python",
   "nbconvert_exporter": "python",
   "pygments_lexer": "ipython3",
   "version": "3.9.7"
  },
  "orig_nbformat": 4
 },
 "nbformat": 4,
 "nbformat_minor": 2
}
