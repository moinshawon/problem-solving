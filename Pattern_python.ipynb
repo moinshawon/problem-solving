{
 "cells": [
  {
   "cell_type": "code",
   "execution_count": 18,
   "source": [
    "n = 4\r\n",
    "\r\n",
    "for i in range(1, n+1): # keep starting point, the number of '*' that need to be printed. it will go to 4\r\n",
    "    print(\"*\" * i)      # '*' start from 1, ends in 4"
   ],
   "outputs": [
    {
     "output_type": "stream",
     "name": "stdout",
     "text": [
      "*\n",
      "**\n",
      "***\n",
      "****\n"
     ]
    }
   ],
   "metadata": {}
  },
  {
   "cell_type": "code",
   "execution_count": 19,
   "source": [
    "for i in range(1, n+1):             # each line e joto gula '*' print kora dorkar, for loop toto theke start and end hobe \r\n",
    "    print( \" \" * (n - i) + \"*\" * i) # num of space will be 3, 2, 1, 0. '*' will be 1, 2, 3, 4"
   ],
   "outputs": [
    {
     "output_type": "stream",
     "name": "stdout",
     "text": [
      "   *\n",
      "  **\n",
      " ***\n",
      "****\n"
     ]
    }
   ],
   "metadata": {}
  },
  {
   "cell_type": "code",
   "execution_count": 20,
   "source": [
    "for i in range(1, n+1):\r\n",
    "    print( \" \" * (n - i) + \"* \" * i) # now 1 '*' 1 space will be printed in each loop. right side e jeye emon shape hobe"
   ],
   "outputs": [
    {
     "output_type": "stream",
     "name": "stdout",
     "text": [
      "   * \n",
      "  * * \n",
      " * * * \n",
      "* * * * \n"
     ]
    }
   ],
   "metadata": {}
  },
  {
   "cell_type": "code",
   "execution_count": 21,
   "source": [
    "for i in range(1, n+1):              # i goes from 1 to 4\r\n",
    "    print( \" \" * (n - i) + \"* \" * i) # 3 ta space, 2 ta space, 1 ta space, 0 space. 1 ta '*', 2 ta '*', 3 ta '*', 4 ta '*'\r\n",
    "    \r\n",
    "for i in range(n-1, 0, -1):          # need to print from 3 '*' to 1 '*'. i start from 3 here, goes 2, goes 1 and STOP!\r\n",
    "    print( \" \" * (n - i) + \"* \" * i) # space starts from 1 ta space to 3 ta space, '*' starts from 3 '*' to 1 '*'"
   ],
   "outputs": [
    {
     "output_type": "stream",
     "name": "stdout",
     "text": [
      "   * \n",
      "  * * \n",
      " * * * \n",
      "* * * * \n",
      " * * * \n",
      "  * * \n",
      "   * \n"
     ]
    }
   ],
   "metadata": {}
  },
  {
   "cell_type": "code",
   "execution_count": 22,
   "source": [
    "for i in range(n, 0, -1):            # need to print from 4 '*' to 1 '*'. i start from 4 here, goes 3, goes 2, goes 1 and STOP!\r\n",
    "    print( \" \" * (n - i) + \"* \" * i) # space starts from 0 ta space to 3 ta space, '*' starts from 4 '*' to 1 '*'"
   ],
   "outputs": [
    {
     "output_type": "stream",
     "name": "stdout",
     "text": [
      "* * * * \n",
      " * * * \n",
      "  * * \n",
      "   * \n"
     ]
    }
   ],
   "metadata": {}
  },
  {
   "cell_type": "code",
   "execution_count": 23,
   "source": [
    "for i in range(n, 0, -1):\r\n",
    "    print(\"*\" * i)"
   ],
   "outputs": [
    {
     "output_type": "stream",
     "name": "stdout",
     "text": [
      "****\n",
      "***\n",
      "**\n",
      "*\n"
     ]
    }
   ],
   "metadata": {}
  },
  {
   "cell_type": "code",
   "execution_count": 11,
   "source": [
    "n = 4\r\n",
    "\r\n",
    "for i in range(1, n+1):   # always start from 1 and go till number of row that has given. so, extended till n+1 \r\n",
    "    print(\"*\" * i)\r\n",
    "    \r\n",
    "for i in range(n, 0, -1): # the given row number of '*' need to printed at the beginning\r\n",
    "    print(\"*\" * i)\r\n"
   ],
   "outputs": [
    {
     "output_type": "stream",
     "name": "stdout",
     "text": [
      "*\n",
      "**\n",
      "***\n",
      "****\n",
      "****\n",
      "***\n",
      "**\n",
      "*\n"
     ]
    }
   ],
   "metadata": {}
  },
  {
   "cell_type": "code",
   "execution_count": 10,
   "source": [
    "n = 4\r\n",
    "for i in range(1, n+1):\r\n",
    "    print( \" \" * (n-i) + \"*\" * i)\r\n",
    "    \r\n",
    "for i in range(1, n+1):\r\n",
    "    print( \" \" * (i-1) + \"*\" * (n+1-i))\r\n",
    "    "
   ],
   "outputs": [
    {
     "output_type": "stream",
     "name": "stdout",
     "text": [
      "   *\n",
      "  **\n",
      " ***\n",
      "****\n",
      "****\n",
      " ***\n",
      "  **\n",
      "   *\n"
     ]
    }
   ],
   "metadata": {}
  },
  {
   "cell_type": "code",
   "execution_count": 12,
   "source": [
    "n = 4\r\n",
    "\r\n",
    "for i in range(1, n+1):\r\n",
    "    # there has 3 parts: space, left side, right side\r\n",
    "    \r\n",
    "    for space in range(n-i, 0, -1): # number of space can be cal by n-1. it starts from n-1 and goes till 1\r\n",
    "        print(end = \" \")            # pasha pasha print hobe\r\n",
    "        \r\n",
    "    for left_side in range(i, 0, -1): # num of i same as the number of digit in each line, and it's going backward\r\n",
    "        print(left_side, end = \"\")\r\n",
    "        \r\n",
    "    for right_side in range(2, i+1): # it starts from 2 and goes the same num of value as i\r\n",
    "        print(right_side, end = \"\")\r\n",
    "    print()\r\n",
    "    \r\n",
    "    \r\n",
    "for i in range(1, n):\r\n",
    "    \r\n",
    "    for space in range(1, i+1): # always start from 1 and go till i. so, ended in i+1\r\n",
    "        print(end = \" \")\r\n",
    "        \r\n",
    "    for left_side in range(n-i, 0, -1):  # need to start from n-1 and go till 1. to ended in 0\r\n",
    "        print(left_side, end=\"\")         \r\n",
    "        \r\n",
    "    for right_side in range(2, (n-i)+1): # need to print from 2 to (n-i). so, extended it by +1 \r\n",
    "        print(right_side, end=\"\")        \r\n",
    "    print()"
   ],
   "outputs": [
    {
     "output_type": "stream",
     "name": "stdout",
     "text": [
      "   1\n",
      "  212\n",
      " 32123\n",
      "4321234\n",
      " 32123\n",
      "  212\n",
      "   1\n"
     ]
    }
   ],
   "metadata": {}
  },
  {
   "cell_type": "code",
   "execution_count": 13,
   "source": [
    "n = 5\r\n",
    "\r\n",
    "for i in range(1, n+1):         # the last value is excluding, and it is staring from 1. so n+1\r\n",
    "    \r\n",
    "    for j in range(n, n-i, -1): # start from the given number, go till the number of line value, in desc order\r\n",
    "        print(j, end=\"\")        # end=\"\" for printing in the same line\r\n",
    "        \r\n",
    "    print() # go to next line "
   ],
   "outputs": [
    {
     "output_type": "stream",
     "name": "stdout",
     "text": [
      "5\n",
      "54\n",
      "543\n",
      "5432\n",
      "54321\n"
     ]
    }
   ],
   "metadata": {}
  },
  {
   "cell_type": "code",
   "execution_count": 16,
   "source": [
    "for row in range(6):\r\n",
    "    for col in range(7):\r\n",
    "        if (row == 0 and col % 3 != 0) or (row == 1 and col % 3 == 0) or (row - col == 2) or (row + col == 8):\r\n",
    "            print(\"*\", end = \"\")\r\n",
    "        else:\r\n",
    "            print(\" \", end = \"\")\r\n",
    "            \r\n",
    "    print()"
   ],
   "outputs": [
    {
     "output_type": "stream",
     "name": "stdout",
     "text": [
      " ** ** \n",
      "*  *  *\n",
      "*     *\n",
      " *   * \n",
      "  * *  \n",
      "   *   \n"
     ]
    }
   ],
   "metadata": {}
  }
 ],
 "metadata": {
  "orig_nbformat": 4,
  "language_info": {
   "name": "python",
   "version": "3.8.5",
   "mimetype": "text/x-python",
   "codemirror_mode": {
    "name": "ipython",
    "version": 3
   },
   "pygments_lexer": "ipython3",
   "nbconvert_exporter": "python",
   "file_extension": ".py"
  },
  "kernelspec": {
   "name": "python3",
   "display_name": "Python 3.8.5 64-bit ('base': conda)"
  },
  "interpreter": {
   "hash": "b3ba2566441a7c06988d0923437866b63cedc61552a5af99d1f4fb67d367b25f"
  }
 },
 "nbformat": 4,
 "nbformat_minor": 2
}